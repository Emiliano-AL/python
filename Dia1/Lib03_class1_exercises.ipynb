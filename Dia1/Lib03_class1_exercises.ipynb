{
 "metadata": {
  "name": "",
  "signature": "sha256:254aa05a29a38f474ca59b66f8fc6e1832aababa97ededf785b7294bc05f2292"
 },
 "nbformat": 3,
 "nbformat_minor": 0,
 "worksheets": [
  {
   "cells": [
    {
     "cell_type": "code",
     "collapsed": false,
     "input": [
      "def function_con_un_nombre_muy_largo_y_algo_boba(a,b):\n",
      "    \"\"\"\n",
      "    Este texto es el docstring de boba.\n",
      "    La funci\u00f3n toma dos argumentos a y b \n",
      "    Regresa la suma de los argumentos a + b\n",
      "    No hay verificacion de errores\n",
      "    \"\"\"\n",
      "    return a+b"
     ],
     "language": "python",
     "metadata": {},
     "outputs": [],
     "prompt_number": 1
    },
    {
     "cell_type": "code",
     "collapsed": false,
     "input": [
      "funct?"
     ],
     "language": "python",
     "metadata": {},
     "outputs": [
      {
       "output_type": "stream",
       "stream": "stdout",
       "text": [
        "Object `funct` not found.\n"
       ]
      }
     ],
     "prompt_number": 2
    },
    {
     "cell_type": "code",
     "collapsed": false,
     "input": [
      "function_con_un_nombre_muy_largo_y_algo_boba?"
     ],
     "language": "python",
     "metadata": {},
     "outputs": [],
     "prompt_number": 3
    },
    {
     "cell_type": "code",
     "collapsed": false,
     "input": [
      "function_con_un_nombre_muy_largo_y_algo_boba??"
     ],
     "language": "python",
     "metadata": {},
     "outputs": [],
     "prompt_number": 7
    },
    {
     "cell_type": "code",
     "collapsed": false,
     "input": [
      "function_con_un_nombre_muy_largo_y_algo_boba(10, 15)"
     ],
     "language": "python",
     "metadata": {},
     "outputs": [
      {
       "metadata": {},
       "output_type": "pyout",
       "prompt_number": 8,
       "text": [
        "25"
       ]
      }
     ],
     "prompt_number": 8
    },
    {
     "cell_type": "code",
     "collapsed": false,
     "input": [
      "import sys"
     ],
     "language": "python",
     "metadata": {},
     "outputs": [],
     "prompt_number": 10
    },
    {
     "cell_type": "code",
     "collapsed": false,
     "input": [
      "sys.path.count"
     ],
     "language": "python",
     "metadata": {},
     "outputs": [
      {
       "metadata": {},
       "output_type": "pyout",
       "prompt_number": 12,
       "text": [
        "<function count>"
       ]
      }
     ],
     "prompt_number": 12
    },
    {
     "cell_type": "markdown",
     "metadata": {},
     "source": [
      "Al presionar la tecla tab, la libreta me muestra las diferentes librer\u00edas que pertenecen a sys.path, en este caso yo importe la libreria count"
     ]
    }
   ],
   "metadata": {}
  }
 ]
}