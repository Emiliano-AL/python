{
 "metadata": {
  "name": "",
  "signature": "sha256:bcab062a97af0e0c7880648a2f1a91713cc4f81de876108a9265f9ddb0e618e2"
 },
 "nbformat": 3,
 "nbformat_minor": 0,
 "worksheets": [
  {
   "cells": [
    {
     "cell_type": "code",
     "collapsed": false,
     "input": [],
     "language": "python",
     "metadata": {},
     "outputs": []
    },
    {
     "cell_type": "code",
     "collapsed": false,
     "input": [],
     "language": "python",
     "metadata": {},
     "outputs": []
    },
    {
     "cell_type": "code",
     "collapsed": false,
     "input": [
      "fileList = !dir\n",
      "for x,i in enumerate(fileList):\n",
      "    print '#',x, '----->', i\n",
      "    "
     ],
     "language": "python",
     "metadata": {},
     "outputs": [
      {
       "output_type": "stream",
       "stream": "stdout",
       "text": [
        "# 0 ----->  El volumen de la unidad C no tiene etiqueta.\n",
        "# 1 ----->  El n\ufffdmero de serie del volumen es: EE55-372F\n",
        "# 2 -----> \n",
        "# 3 ----->  Directorio de C:\\Users\\Emiliano\\Documents\\IPython Notebooks\\lania.ipython\\Dia1\\notebooks\n",
        "# 4 -----> \n",
        "# 5 -----> 01/11/2014  16:46    <DIR>          .\n",
        "# 6 -----> 01/11/2014  16:46    <DIR>          ..\n",
        "# 7 -----> 01/11/2014  16:47    <DIR>          .ipynb_checkpoints\n",
        "# 8 -----> 01/11/2014  13:47            17.350 Lib00_Esenciales_IPython_Notebook.ipynb\n",
        "# 9 -----> 01/11/2014  13:54            17.765 Lib01_Esenciales_IPython_Notebook.ipynb\n",
        "# 10 -----> 01/11/2014  15:48             7.155 Lib02_clase1_exercises.ipynb\n",
        "# 11 -----> 01/11/2014  15:45            10.750 Lib02_Esenciales_IPython_Notebook.ipynb\n",
        "# 12 -----> 01/11/2014  16:02             2.879 Lib03_class1_exercises.ipynb\n",
        "# 13 -----> 01/11/2014  15:47            10.936 Lib03_Esenciales_IPython_Notebook.ipynb\n",
        "# 14 -----> 01/11/2014  16:25             4.746 Lib04_class1_exercises.ipynb\n",
        "# 15 -----> 01/11/2014  16:04            11.608 Lib04_Esenciales_IPython_Notebook.ipynb\n",
        "# 16 -----> 01/11/2014  16:45            15.326 Lib05_class1_exercises.ipynb\n",
        "# 17 -----> 01/11/2014  16:45            15.467 Lib05_Esenciales_IPython_Notebook.ipynb\n",
        "# 18 -----> 01/11/2014  16:49             3.762 Lib06_class1_exercises.ipynb\n",
        "# 19 -----> 01/11/2014  11:21            22.571 Lib06_Esenciales_IPython_Notebook.ipynb\n",
        "# 20 -----> 01/11/2014  11:21           223.399 Lib07_Esenciales_IPython_Notebook.ipynb\n",
        "# 21 -----> 01/11/2014  11:21            15.846 Lib08_Esenciales_IPython_Notebook.ipynb\n",
        "# 22 -----> 01/11/2014  11:21           296.400 Lib09_Esenciales_IPython_Notebook.ipynb\n",
        "# 23 -----> 01/11/2014  11:21            16.852 Lib10_Esenciales_IPython_Notebook.ipynb\n",
        "# 24 -----> 01/11/2014  11:21            22.169 Lib11_GIT01_RevisionControl_1aEtapa.ipynb\n",
        "# 25 -----> 01/11/2014  11:21             8.979 Lib12_GIT02_RevisionControl_2aEtapa.ipynb\n",
        "# 26 -----> 01/11/2014  11:21             8.698 Lib13_GIT03_RevisionControl_3aEtapa.ipynb\n",
        "# 27 -----> 01/11/2014  11:21             7.569 Lib14_GIT04_RevisionControl_4aEtapa.ipynb\n",
        "# 28 -----> 01/11/2014  11:21            14.307 Lib15_GIT05_RevisionControl_Aplicacion.ipynb\n",
        "# 29 ----->               21 archivos        754.534 bytes\n",
        "# 30 ----->                3 dirs  65.903.190.016 bytes libres\n"
       ]
      }
     ],
     "prompt_number": 2
    },
    {
     "cell_type": "code",
     "collapsed": false,
     "input": [
      "from IPython.display import FileLink, FileLinks\n",
      "FileLinks('.')"
     ],
     "language": "python",
     "metadata": {},
     "outputs": [
      {
       "html": [
        "./<br>\n",
        "&nbsp;&nbsp;<a href='./Lib00_Esenciales_IPython_Notebook.ipynb' target='_blank'>Lib00_Esenciales_IPython_Notebook.ipynb</a><br>\n",
        "&nbsp;&nbsp;<a href='./Lib01_Esenciales_IPython_Notebook.ipynb' target='_blank'>Lib01_Esenciales_IPython_Notebook.ipynb</a><br>\n",
        "&nbsp;&nbsp;<a href='./Lib02_clase1_exercises.ipynb' target='_blank'>Lib02_clase1_exercises.ipynb</a><br>\n",
        "&nbsp;&nbsp;<a href='./Lib02_Esenciales_IPython_Notebook.ipynb' target='_blank'>Lib02_Esenciales_IPython_Notebook.ipynb</a><br>\n",
        "&nbsp;&nbsp;<a href='./Lib03_class1_exercises.ipynb' target='_blank'>Lib03_class1_exercises.ipynb</a><br>\n",
        "&nbsp;&nbsp;<a href='./Lib03_Esenciales_IPython_Notebook.ipynb' target='_blank'>Lib03_Esenciales_IPython_Notebook.ipynb</a><br>\n",
        "&nbsp;&nbsp;<a href='./Lib04_class1_exercises.ipynb' target='_blank'>Lib04_class1_exercises.ipynb</a><br>\n",
        "&nbsp;&nbsp;<a href='./Lib04_Esenciales_IPython_Notebook.ipynb' target='_blank'>Lib04_Esenciales_IPython_Notebook.ipynb</a><br>\n",
        "&nbsp;&nbsp;<a href='./Lib05_class1_exercises.ipynb' target='_blank'>Lib05_class1_exercises.ipynb</a><br>\n",
        "&nbsp;&nbsp;<a href='./Lib05_Esenciales_IPython_Notebook.ipynb' target='_blank'>Lib05_Esenciales_IPython_Notebook.ipynb</a><br>\n",
        "&nbsp;&nbsp;<a href='./Lib06_class1_exercises.ipynb' target='_blank'>Lib06_class1_exercises.ipynb</a><br>\n",
        "&nbsp;&nbsp;<a href='./Lib06_Esenciales_IPython_Notebook.ipynb' target='_blank'>Lib06_Esenciales_IPython_Notebook.ipynb</a><br>\n",
        "&nbsp;&nbsp;<a href='./Lib07_Esenciales_IPython_Notebook.ipynb' target='_blank'>Lib07_Esenciales_IPython_Notebook.ipynb</a><br>\n",
        "&nbsp;&nbsp;<a href='./Lib08_Esenciales_IPython_Notebook.ipynb' target='_blank'>Lib08_Esenciales_IPython_Notebook.ipynb</a><br>\n",
        "&nbsp;&nbsp;<a href='./Lib09_Esenciales_IPython_Notebook.ipynb' target='_blank'>Lib09_Esenciales_IPython_Notebook.ipynb</a><br>\n",
        "&nbsp;&nbsp;<a href='./Lib10_Esenciales_IPython_Notebook.ipynb' target='_blank'>Lib10_Esenciales_IPython_Notebook.ipynb</a><br>\n",
        "&nbsp;&nbsp;<a href='./Lib11_GIT01_RevisionControl_1aEtapa.ipynb' target='_blank'>Lib11_GIT01_RevisionControl_1aEtapa.ipynb</a><br>\n",
        "&nbsp;&nbsp;<a href='./Lib12_GIT02_RevisionControl_2aEtapa.ipynb' target='_blank'>Lib12_GIT02_RevisionControl_2aEtapa.ipynb</a><br>\n",
        "&nbsp;&nbsp;<a href='./Lib13_GIT03_RevisionControl_3aEtapa.ipynb' target='_blank'>Lib13_GIT03_RevisionControl_3aEtapa.ipynb</a><br>\n",
        "&nbsp;&nbsp;<a href='./Lib14_GIT04_RevisionControl_4aEtapa.ipynb' target='_blank'>Lib14_GIT04_RevisionControl_4aEtapa.ipynb</a><br>\n",
        "&nbsp;&nbsp;<a href='./Lib15_GIT05_RevisionControl_Aplicacion.ipynb' target='_blank'>Lib15_GIT05_RevisionControl_Aplicacion.ipynb</a><br>\n",
        ".\\.ipynb_checkpoints/<br>\n",
        "&nbsp;&nbsp;<a href='./.ipynb_checkpoints/Lib00_Esenciales_IPython_Notebook-checkpoint.ipynb' target='_blank'>Lib00_Esenciales_IPython_Notebook-checkpoint.ipynb</a><br>\n",
        "&nbsp;&nbsp;<a href='./.ipynb_checkpoints/Lib01_Esenciales_IPython_Notebook-checkpoint.ipynb' target='_blank'>Lib01_Esenciales_IPython_Notebook-checkpoint.ipynb</a><br>\n",
        "&nbsp;&nbsp;<a href='./.ipynb_checkpoints/Lib02_clase1_exercises-checkpoint.ipynb' target='_blank'>Lib02_clase1_exercises-checkpoint.ipynb</a><br>\n",
        "&nbsp;&nbsp;<a href='./.ipynb_checkpoints/Lib02_Esenciales_IPython_Notebook-checkpoint.ipynb' target='_blank'>Lib02_Esenciales_IPython_Notebook-checkpoint.ipynb</a><br>\n",
        "&nbsp;&nbsp;<a href='./.ipynb_checkpoints/Lib03_class1_exercises-checkpoint.ipynb' target='_blank'>Lib03_class1_exercises-checkpoint.ipynb</a><br>\n",
        "&nbsp;&nbsp;<a href='./.ipynb_checkpoints/Lib03_Esenciales_IPython_Notebook-checkpoint.ipynb' target='_blank'>Lib03_Esenciales_IPython_Notebook-checkpoint.ipynb</a><br>\n",
        "&nbsp;&nbsp;<a href='./.ipynb_checkpoints/Lib04_class1_exercises-checkpoint.ipynb' target='_blank'>Lib04_class1_exercises-checkpoint.ipynb</a><br>\n",
        "&nbsp;&nbsp;<a href='./.ipynb_checkpoints/Lib04_Esenciales_IPython_Notebook-checkpoint.ipynb' target='_blank'>Lib04_Esenciales_IPython_Notebook-checkpoint.ipynb</a><br>\n",
        "&nbsp;&nbsp;<a href='./.ipynb_checkpoints/Lib05_class1_exercises-checkpoint.ipynb' target='_blank'>Lib05_class1_exercises-checkpoint.ipynb</a><br>\n",
        "&nbsp;&nbsp;<a href='./.ipynb_checkpoints/Lib05_Esenciales_IPython_Notebook-checkpoint.ipynb' target='_blank'>Lib05_Esenciales_IPython_Notebook-checkpoint.ipynb</a><br>\n",
        "&nbsp;&nbsp;<a href='./.ipynb_checkpoints/Lib06_class1_exercises-checkpoint.ipynb' target='_blank'>Lib06_class1_exercises-checkpoint.ipynb</a><br>"
       ],
       "metadata": {},
       "output_type": "pyout",
       "prompt_number": 4,
       "text": [
        "./\n",
        "  Lib00_Esenciales_IPython_Notebook.ipynb\n",
        "  Lib01_Esenciales_IPython_Notebook.ipynb\n",
        "  Lib02_clase1_exercises.ipynb\n",
        "  Lib02_Esenciales_IPython_Notebook.ipynb\n",
        "  Lib03_class1_exercises.ipynb\n",
        "  Lib03_Esenciales_IPython_Notebook.ipynb\n",
        "  Lib04_class1_exercises.ipynb\n",
        "  Lib04_Esenciales_IPython_Notebook.ipynb\n",
        "  Lib05_class1_exercises.ipynb\n",
        "  Lib05_Esenciales_IPython_Notebook.ipynb\n",
        "  Lib06_class1_exercises.ipynb\n",
        "  Lib06_Esenciales_IPython_Notebook.ipynb\n",
        "  Lib07_Esenciales_IPython_Notebook.ipynb\n",
        "  Lib08_Esenciales_IPython_Notebook.ipynb\n",
        "  Lib09_Esenciales_IPython_Notebook.ipynb\n",
        "  Lib10_Esenciales_IPython_Notebook.ipynb\n",
        "  Lib11_GIT01_RevisionControl_1aEtapa.ipynb\n",
        "  Lib12_GIT02_RevisionControl_2aEtapa.ipynb\n",
        "  Lib13_GIT03_RevisionControl_3aEtapa.ipynb\n",
        "  Lib14_GIT04_RevisionControl_4aEtapa.ipynb\n",
        "  Lib15_GIT05_RevisionControl_Aplicacion.ipynb\n",
        ".\\.ipynb_checkpoints/\n",
        "  Lib00_Esenciales_IPython_Notebook-checkpoint.ipynb\n",
        "  Lib01_Esenciales_IPython_Notebook-checkpoint.ipynb\n",
        "  Lib02_clase1_exercises-checkpoint.ipynb\n",
        "  Lib02_Esenciales_IPython_Notebook-checkpoint.ipynb\n",
        "  Lib03_class1_exercises-checkpoint.ipynb\n",
        "  Lib03_Esenciales_IPython_Notebook-checkpoint.ipynb\n",
        "  Lib04_class1_exercises-checkpoint.ipynb\n",
        "  Lib04_Esenciales_IPython_Notebook-checkpoint.ipynb\n",
        "  Lib05_class1_exercises-checkpoint.ipynb\n",
        "  Lib05_Esenciales_IPython_Notebook-checkpoint.ipynb\n",
        "  Lib06_class1_exercises-checkpoint.ipynb"
       ]
      }
     ],
     "prompt_number": 4
    },
    {
     "cell_type": "code",
     "collapsed": false,
     "input": [
      "FileLinks('./.ipynb_checkpoints/')"
     ],
     "language": "python",
     "metadata": {},
     "outputs": [
      {
       "html": [
        "./.ipynb_checkpoints/<br>\n",
        "&nbsp;&nbsp;<a href='./.ipynb_checkpoints/Lib00_Esenciales_IPython_Notebook-checkpoint.ipynb' target='_blank'>Lib00_Esenciales_IPython_Notebook-checkpoint.ipynb</a><br>\n",
        "&nbsp;&nbsp;<a href='./.ipynb_checkpoints/Lib01_Esenciales_IPython_Notebook-checkpoint.ipynb' target='_blank'>Lib01_Esenciales_IPython_Notebook-checkpoint.ipynb</a><br>\n",
        "&nbsp;&nbsp;<a href='./.ipynb_checkpoints/Lib02_clase1_exercises-checkpoint.ipynb' target='_blank'>Lib02_clase1_exercises-checkpoint.ipynb</a><br>\n",
        "&nbsp;&nbsp;<a href='./.ipynb_checkpoints/Lib02_Esenciales_IPython_Notebook-checkpoint.ipynb' target='_blank'>Lib02_Esenciales_IPython_Notebook-checkpoint.ipynb</a><br>\n",
        "&nbsp;&nbsp;<a href='./.ipynb_checkpoints/Lib03_class1_exercises-checkpoint.ipynb' target='_blank'>Lib03_class1_exercises-checkpoint.ipynb</a><br>\n",
        "&nbsp;&nbsp;<a href='./.ipynb_checkpoints/Lib03_Esenciales_IPython_Notebook-checkpoint.ipynb' target='_blank'>Lib03_Esenciales_IPython_Notebook-checkpoint.ipynb</a><br>\n",
        "&nbsp;&nbsp;<a href='./.ipynb_checkpoints/Lib04_class1_exercises-checkpoint.ipynb' target='_blank'>Lib04_class1_exercises-checkpoint.ipynb</a><br>\n",
        "&nbsp;&nbsp;<a href='./.ipynb_checkpoints/Lib04_Esenciales_IPython_Notebook-checkpoint.ipynb' target='_blank'>Lib04_Esenciales_IPython_Notebook-checkpoint.ipynb</a><br>\n",
        "&nbsp;&nbsp;<a href='./.ipynb_checkpoints/Lib05_class1_exercises-checkpoint.ipynb' target='_blank'>Lib05_class1_exercises-checkpoint.ipynb</a><br>\n",
        "&nbsp;&nbsp;<a href='./.ipynb_checkpoints/Lib05_Esenciales_IPython_Notebook-checkpoint.ipynb' target='_blank'>Lib05_Esenciales_IPython_Notebook-checkpoint.ipynb</a><br>\n",
        "&nbsp;&nbsp;<a href='./.ipynb_checkpoints/Lib06_class1_exercises-checkpoint.ipynb' target='_blank'>Lib06_class1_exercises-checkpoint.ipynb</a><br>"
       ],
       "metadata": {},
       "output_type": "pyout",
       "prompt_number": 18,
       "text": [
        "./.ipynb_checkpoints/\n",
        "  Lib00_Esenciales_IPython_Notebook-checkpoint.ipynb\n",
        "  Lib01_Esenciales_IPython_Notebook-checkpoint.ipynb\n",
        "  Lib02_clase1_exercises-checkpoint.ipynb\n",
        "  Lib02_Esenciales_IPython_Notebook-checkpoint.ipynb\n",
        "  Lib03_class1_exercises-checkpoint.ipynb\n",
        "  Lib03_Esenciales_IPython_Notebook-checkpoint.ipynb\n",
        "  Lib04_class1_exercises-checkpoint.ipynb\n",
        "  Lib04_Esenciales_IPython_Notebook-checkpoint.ipynb\n",
        "  Lib05_class1_exercises-checkpoint.ipynb\n",
        "  Lib05_Esenciales_IPython_Notebook-checkpoint.ipynb\n",
        "  Lib06_class1_exercises-checkpoint.ipynb"
       ]
      }
     ],
     "prompt_number": 18
    },
    {
     "cell_type": "code",
     "collapsed": false,
     "input": [
      "%load http://pastebin.com/raw.php?i=mGiV1FwY"
     ],
     "language": "python",
     "metadata": {},
     "outputs": [],
     "prompt_number": 8
    },
    {
     "cell_type": "code",
     "collapsed": false,
     "input": [
      "CustomPlot()\n",
      "font_size = 20\n",
      "figsize(11.5, 6)\n",
      "\n",
      "t = arange(0.0, 2.0, 0.01)\n",
      "s = sin(2*pi*t)\n",
      "plot(t, s)\n",
      "\n",
      "xlabel(r'time $(s)$', fontsize=font_size)\n",
      "ylabel('voltage $(mV)$', fontsize=font_size)\n",
      "title('Voltage', fontsize=font_size)\n",
      "grid(True)"
     ],
     "language": "python",
     "metadata": {},
     "outputs": []
    },
    {
     "cell_type": "code",
     "collapsed": false,
     "input": [
      "CustomPlot()\n",
      "font_size = 20\n",
      "figsize(11.5, 6)\n",
      "\n",
      "t = arange(0.0, 2.0, 0.01)\n",
      "s = sin(2*pi*t)\n",
      "plot(t, s)\n",
      "\n",
      "xlabel(r'time $(s)$', fontsize=font_size)\n",
      "ylabel('voltage $(mV)$', fontsize=font_size)\n",
      "title('Voltage', fontsize=font_size)\n",
      "grid(True)"
     ],
     "language": "python",
     "metadata": {},
     "outputs": [
      {
       "ename": "NameError",
       "evalue": "name 'CustomPlot' is not defined",
       "output_type": "pyerr",
       "traceback": [
        "\u001b[1;31m---------------------------------------------------------------------------\u001b[0m\n\u001b[1;31mNameError\u001b[0m                                 Traceback (most recent call last)",
        "\u001b[1;32m<ipython-input-9-3c2808542670>\u001b[0m in \u001b[0;36m<module>\u001b[1;34m()\u001b[0m\n\u001b[1;32m----> 1\u001b[1;33m \u001b[0mCustomPlot\u001b[0m\u001b[1;33m(\u001b[0m\u001b[1;33m)\u001b[0m\u001b[1;33m\u001b[0m\u001b[0m\n\u001b[0m\u001b[0;32m      2\u001b[0m \u001b[0mfont_size\u001b[0m \u001b[1;33m=\u001b[0m \u001b[1;36m20\u001b[0m\u001b[1;33m\u001b[0m\u001b[0m\n\u001b[0;32m      3\u001b[0m \u001b[0mfigsize\u001b[0m\u001b[1;33m(\u001b[0m\u001b[1;36m11.5\u001b[0m\u001b[1;33m,\u001b[0m \u001b[1;36m6\u001b[0m\u001b[1;33m)\u001b[0m\u001b[1;33m\u001b[0m\u001b[0m\n\u001b[0;32m      4\u001b[0m \u001b[1;33m\u001b[0m\u001b[0m\n\u001b[0;32m      5\u001b[0m \u001b[0mt\u001b[0m \u001b[1;33m=\u001b[0m \u001b[0marange\u001b[0m\u001b[1;33m(\u001b[0m\u001b[1;36m0.0\u001b[0m\u001b[1;33m,\u001b[0m \u001b[1;36m2.0\u001b[0m\u001b[1;33m,\u001b[0m \u001b[1;36m0.01\u001b[0m\u001b[1;33m)\u001b[0m\u001b[1;33m\u001b[0m\u001b[0m\n",
        "\u001b[1;31mNameError\u001b[0m: name 'CustomPlot' is not defined"
       ]
      }
     ],
     "prompt_number": 9
    },
    {
     "cell_type": "code",
     "collapsed": false,
     "input": [
      "%pastebin? \"grafica\" 0-10"
     ],
     "language": "python",
     "metadata": {},
     "outputs": [
      {
       "metadata": {},
       "output_type": "pyout",
       "prompt_number": 12,
       "text": [
        "u'https://gist.github.com/030b629296380ec66185'"
       ]
      }
     ],
     "prompt_number": 12
    },
    {
     "cell_type": "code",
     "collapsed": false,
     "input": [
      "%connect_info"
     ],
     "language": "python",
     "metadata": {},
     "outputs": [
      {
       "output_type": "stream",
       "stream": "stdout",
       "text": [
        "{\n",
        "  \"stdin_port\": 27922, \n",
        "  \"ip\": \"127.0.0.1\", \n",
        "  \"control_port\": 27923, \n",
        "  \"hb_port\": 27924, \n",
        "  \"signature_scheme\": \"hmac-sha256\", \n",
        "  \"key\": \"c3eef8fa-f083-40db-8ca3-2f89aa6b72a8\", \n",
        "  \"shell_port\": 27920, \n",
        "  \"transport\": \"tcp\", \n",
        "  \"iopub_port\": 27921\n",
        "}\n",
        "\n",
        "Paste the above JSON into a file, and connect with:\n",
        "    $> ipython <app> --existing <file>\n",
        "or, if you are local, you can connect with just:\n",
        "    $> ipython <app> --existing kernel-11e487d7-c6b3-436f-bf70-e5cee7d3914c.json \n",
        "or even just:\n",
        "    $> ipython <app> --existing \n",
        "if this is the most recent IPython session you have started.\n"
       ]
      }
     ],
     "prompt_number": 14
    },
    {
     "cell_type": "code",
     "collapsed": false,
     "input": [
      "echo $null >> Emiliano"
     ],
     "language": "python",
     "metadata": {},
     "outputs": [],
     "prompt_number": 19
    },
    {
     "cell_type": "code",
     "collapsed": false,
     "input": [
      "!dir "
     ],
     "language": "python",
     "metadata": {},
     "outputs": [
      {
       "output_type": "stream",
       "stream": "stdout",
       "text": [
        " El volumen de la unidad C no tiene etiqueta.\n",
        " El n\u00a3mero de serie del volumen es: EE55-372F\n",
        "\n",
        " Directorio de C:\\Users\\Emiliano\\Documents\\IPython Notebooks\\lania.ipython\\Dia1\\notebooks\n",
        "\n",
        "01/11/2014  17:05    <DIR>          .\n",
        "01/11/2014  17:05    <DIR>          ..\n",
        "01/11/2014  16:47    <DIR>          .ipynb_checkpoints\n",
        "01/11/2014  17:07                24 Emiliano\n",
        "01/11/2014  13:47            17.350 Lib00_Esenciales_IPython_Notebook.ipynb\n",
        "01/11/2014  13:54            17.765 Lib01_Esenciales_IPython_Notebook.ipynb\n",
        "01/11/2014  15:48             7.155 Lib02_clase1_exercises.ipynb\n",
        "01/11/2014  15:45            10.750 Lib02_Esenciales_IPython_Notebook.ipynb\n",
        "01/11/2014  16:02             2.879 Lib03_class1_exercises.ipynb\n",
        "01/11/2014  15:47            10.936 Lib03_Esenciales_IPython_Notebook.ipynb\n",
        "01/11/2014  16:25             4.746 Lib04_class1_exercises.ipynb\n",
        "01/11/2014  16:04            11.608 Lib04_Esenciales_IPython_Notebook.ipynb\n",
        "01/11/2014  16:45            15.326 Lib05_class1_exercises.ipynb\n",
        "01/11/2014  16:45            15.467 Lib05_Esenciales_IPython_Notebook.ipynb\n",
        "01/11/2014  17:07            21.382 Lib06_class1_exercises.ipynb\n",
        "01/11/2014  11:21            22.571 Lib06_Esenciales_IPython_Notebook.ipynb\n",
        "01/11/2014  11:21           223.399 Lib07_Esenciales_IPython_Notebook.ipynb\n",
        "01/11/2014  11:21            15.846 Lib08_Esenciales_IPython_Notebook.ipynb\n",
        "01/11/2014  11:21           296.400 Lib09_Esenciales_IPython_Notebook.ipynb\n",
        "01/11/2014  11:21            16.852 Lib10_Esenciales_IPython_Notebook.ipynb\n",
        "01/11/2014  11:21            22.169 Lib11_GIT01_RevisionControl_1aEtapa.ipynb\n",
        "01/11/2014  11:21             8.979 Lib12_GIT02_RevisionControl_2aEtapa.ipynb\n",
        "01/11/2014  11:21             8.698 Lib13_GIT03_RevisionControl_3aEtapa.ipynb\n",
        "01/11/2014  11:21             7.569 Lib14_GIT04_RevisionControl_4aEtapa.ipynb\n",
        "01/11/2014  11:21            14.307 Lib15_GIT05_RevisionControl_Aplicacion.ipynb\n",
        "              22 archivos        772.178 bytes\n",
        "               3 dirs  65.902.481.408 bytes libres\n"
       ]
      }
     ],
     "prompt_number": 20
    },
    {
     "cell_type": "code",
     "collapsed": false,
     "input": [
      "FileLinks('./.ipynb_checkpoints/')"
     ],
     "language": "python",
     "metadata": {},
     "outputs": [
      {
       "html": [
        "./.ipynb_checkpoints/<br>\n",
        "&nbsp;&nbsp;<a href='./.ipynb_checkpoints/Lib00_Esenciales_IPython_Notebook-checkpoint.ipynb' target='_blank'>Lib00_Esenciales_IPython_Notebook-checkpoint.ipynb</a><br>\n",
        "&nbsp;&nbsp;<a href='./.ipynb_checkpoints/Lib01_Esenciales_IPython_Notebook-checkpoint.ipynb' target='_blank'>Lib01_Esenciales_IPython_Notebook-checkpoint.ipynb</a><br>\n",
        "&nbsp;&nbsp;<a href='./.ipynb_checkpoints/Lib02_clase1_exercises-checkpoint.ipynb' target='_blank'>Lib02_clase1_exercises-checkpoint.ipynb</a><br>\n",
        "&nbsp;&nbsp;<a href='./.ipynb_checkpoints/Lib02_Esenciales_IPython_Notebook-checkpoint.ipynb' target='_blank'>Lib02_Esenciales_IPython_Notebook-checkpoint.ipynb</a><br>\n",
        "&nbsp;&nbsp;<a href='./.ipynb_checkpoints/Lib03_class1_exercises-checkpoint.ipynb' target='_blank'>Lib03_class1_exercises-checkpoint.ipynb</a><br>\n",
        "&nbsp;&nbsp;<a href='./.ipynb_checkpoints/Lib03_Esenciales_IPython_Notebook-checkpoint.ipynb' target='_blank'>Lib03_Esenciales_IPython_Notebook-checkpoint.ipynb</a><br>\n",
        "&nbsp;&nbsp;<a href='./.ipynb_checkpoints/Lib04_class1_exercises-checkpoint.ipynb' target='_blank'>Lib04_class1_exercises-checkpoint.ipynb</a><br>\n",
        "&nbsp;&nbsp;<a href='./.ipynb_checkpoints/Lib04_Esenciales_IPython_Notebook-checkpoint.ipynb' target='_blank'>Lib04_Esenciales_IPython_Notebook-checkpoint.ipynb</a><br>\n",
        "&nbsp;&nbsp;<a href='./.ipynb_checkpoints/Lib05_class1_exercises-checkpoint.ipynb' target='_blank'>Lib05_class1_exercises-checkpoint.ipynb</a><br>\n",
        "&nbsp;&nbsp;<a href='./.ipynb_checkpoints/Lib05_Esenciales_IPython_Notebook-checkpoint.ipynb' target='_blank'>Lib05_Esenciales_IPython_Notebook-checkpoint.ipynb</a><br>\n",
        "&nbsp;&nbsp;<a href='./.ipynb_checkpoints/Lib06_class1_exercises-checkpoint.ipynb' target='_blank'>Lib06_class1_exercises-checkpoint.ipynb</a><br>"
       ],
       "metadata": {},
       "output_type": "pyout",
       "prompt_number": 21,
       "text": [
        "./.ipynb_checkpoints/\n",
        "  Lib00_Esenciales_IPython_Notebook-checkpoint.ipynb\n",
        "  Lib01_Esenciales_IPython_Notebook-checkpoint.ipynb\n",
        "  Lib02_clase1_exercises-checkpoint.ipynb\n",
        "  Lib02_Esenciales_IPython_Notebook-checkpoint.ipynb\n",
        "  Lib03_class1_exercises-checkpoint.ipynb\n",
        "  Lib03_Esenciales_IPython_Notebook-checkpoint.ipynb\n",
        "  Lib04_class1_exercises-checkpoint.ipynb\n",
        "  Lib04_Esenciales_IPython_Notebook-checkpoint.ipynb\n",
        "  Lib05_class1_exercises-checkpoint.ipynb\n",
        "  Lib05_Esenciales_IPython_Notebook-checkpoint.ipynb\n",
        "  Lib06_class1_exercises-checkpoint.ipynb"
       ]
      }
     ],
     "prompt_number": 21
    }
   ],
   "metadata": {}
  }
 ]
}