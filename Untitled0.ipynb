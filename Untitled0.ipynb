{
 "metadata": {
  "name": "",
  "signature": "sha256:f0770ef991a192276a330da1261190950d5365f97d385a15a10767c6d50fc107"
 },
 "nbformat": 3,
 "nbformat_minor": 0,
 "worksheets": []
}