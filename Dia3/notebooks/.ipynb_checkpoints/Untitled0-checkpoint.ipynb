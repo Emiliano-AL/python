{
 "metadata": {
  "name": "",
  "signature": "sha256:e76acd605fbe20f3871a91d2c411bfb8c09c16c21477b6b19566dbe4d3ccaf00"
 },
 "nbformat": 3,
 "nbformat_minor": 0,
 "worksheets": []
}