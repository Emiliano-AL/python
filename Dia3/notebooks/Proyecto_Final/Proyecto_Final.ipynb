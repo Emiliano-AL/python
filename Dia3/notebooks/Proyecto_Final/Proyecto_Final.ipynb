{
 "metadata": {
  "name": "",
  "signature": "sha256:cb134aa4288cb8599e1d146cc31d46b7007fd507c584cb25319b9fb594e8ffcd"
 },
 "nbformat": 3,
 "nbformat_minor": 0,
 "worksheets": [
  {
   "cells": [
    {
     "cell_type": "heading",
     "level": 2,
     "metadata": {},
     "source": [
      "Proyecto final"
     ]
    },
    {
     "cell_type": "heading",
     "level": 4,
     "metadata": {},
     "source": [
      "MATERIA: Temas Avanzados en Ciencias de la Computaci\u00f3n - Python"
     ]
    },
    {
     "cell_type": "heading",
     "level": 3,
     "metadata": {},
     "source": [
      "Descripci\u00f3n del proyecto"
     ]
    },
    {
     "cell_type": "markdown",
     "metadata": {},
     "source": [
      "El script desarrollado, tiene la funcionalidad de calcular cu\u00e1nto se desplaza el usuario en un tiempo determinado, haciendo uso del aceler\u00f3metro. \n",
      "\n",
      "Al ejecutarse el script, lo primero que har\u00e1, ser\u00e1 presentarse, haciendo uso de la funci\u00f3n ttsSpeak, en seguida, lanzar\u00e1 un cuadro de dialogo, el cual preguntar\u00e1 al usuario, si est\u00e1 listo para iniciar, en caso de que se elija la opci\u00f3n negativa, el script mandar\u00e1 un mensaje de despedida y la aplicaci\u00f3n terminar\u00e1. \n",
      "\n",
      "En caso contrario, la aplicaci\u00f3n har\u00e1 un conteo regresivo, desde tres para que el usuario se prepare, una vez terminado este conteo, se empezara la recolecci\u00f3n de datos de los ejes X, Y, y Z, del aceler\u00f3metro,  durante un tiempo de 30 segundos.\n",
      "Los datos obtenidos son,  una muestra inicial para cada uno de los tres ejes, y una muestra al final de los 30 segundos igualmente para los tres ejes.\n",
      "\n",
      "Finalmente se sumarizan la muestra final y se le resta la sumarizaci\u00f3n de la muestra inicial, divididos entre el tiempo de muestra. Con esto se obtiene el movimiento, es decir la distancia que se ha desplazado el usuario en el tiempo establecido, es este caso 30 segundos.\n"
     ]
    },
    {
     "cell_type": "code",
     "collapsed": false,
     "input": [
      "import sys\n",
      "import math\n",
      "import time \n",
      "\n",
      "from android import Android\n",
      "droid = Android()\n",
      " \n",
      "mensaje1='Hola, me llamo Contador, y te dire cuanto te desplazas en 30 segundos'\n",
      "droid.ttsSpeak(mensaje1)\n",
      "\n",
      "time.sleep(10)\n",
      "\n",
      "droid.dialogCreateAlert(\n",
      "    '\u00bfListo para iniciar?',\n",
      "    \n",
      ")\n",
      " \n",
      "droid.dialogSetPositiveButtonText('Si')\n",
      "droid.dialogSetNegativeButtonText('No')\n",
      " \n",
      "droid.dialogShow()\n",
      " \n",
      "response = droid.dialogGetResponse().result\n",
      "droid.dialogDismiss()\n",
      " \n",
      "if not 'which' in response or response['which'] != 'positive': \n",
      "    mensaje2='Bueno, nos vemos'\n",
      "    droid.ttsSpeak(mensaje2)\n",
      "    sys.exit()\n",
      "\n",
      "else:\n",
      "    mensaje3='A la cuenta de tres comienza a caminar'\n",
      "    droid.ttsSpeak(mensaje3)\n",
      "    time.sleep(3)\n",
      "    mensaje4='Uno'\n",
      "    droid.ttsSpeak(mensaje4)\n",
      "    time.sleep(2)\n",
      "    mensaje5='Dos'\n",
      "    droid.ttsSpeak(mensaje5)\n",
      "    time.sleep(2)\n",
      "    mensaje6='Tres'\n",
      "    droid.ttsSpeak(mensaje6)\n",
      "\n",
      "    tiempo=0\n",
      "    final=30000\n",
      "    dt=100\n",
      "\n",
      "    droid.startSensingTimed(2, dt)\n",
      "        start = droid.sensorsReadAccelerometer().result\n",
      "        while tiempo <= final:\n",
      "            datos = droid.sensorsReadAccelerometer().result\n",
      "        \n",
      "            time.sleep(dt/1000.0)\n",
      "            tiempo += dt\n",
      "        \n",
      "        droid.stopSensing()\n",
      "        mov = math.fabs((datos[0] + datos[1] + datos[2]) - (start[0] + start[1] + start[2]) / 30000)\n",
      "\n",
      "\n",
      "    mensaje8= 'Los pasos que diste son aproximadamente' + str(mov)\n",
      "    droid.ttsSpeak(mensaje8)"
     ],
     "language": "python",
     "metadata": {},
     "outputs": []
    }
   ],
   "metadata": {}
  }
 ]
}