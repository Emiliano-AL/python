{
 "metadata": {
  "name": "",
  "signature": "sha256:e500638fd74091d60c17cc46c0a0335e9b646410260ec963fa1f629448a428ee"
 },
 "nbformat": 3,
 "nbformat_minor": 0,
 "worksheets": [
  {
   "cells": [
    {
     "cell_type": "code",
     "collapsed": false,
     "input": [
      "for i in 2, 4, 6, 8:\n",
      "    print(i)"
     ],
     "language": "python",
     "metadata": {},
     "outputs": [
      {
       "output_type": "stream",
       "stream": "stdout",
       "text": [
        "2\n",
        "4\n",
        "6\n",
        "8\n"
       ]
      }
     ],
     "prompt_number": 2
    },
    {
     "cell_type": "markdown",
     "metadata": {},
     "source": [
      "Esun ciclo for que itera la \"lista\" de numeros que se le pasa"
     ]
    },
    {
     "cell_type": "code",
     "collapsed": false,
     "input": [
      "for i in range(1,10):\n",
      "    print(i)"
     ],
     "language": "python",
     "metadata": {},
     "outputs": [
      {
       "output_type": "stream",
       "stream": "stdout",
       "text": [
        "1\n",
        "2\n",
        "3\n",
        "4\n",
        "5\n",
        "6\n",
        "7\n",
        "8\n",
        "9\n"
       ]
      }
     ],
     "prompt_number": 5
    },
    {
     "cell_type": "code",
     "collapsed": false,
     "input": [
      "for i in range(2, 9, 2):\n",
      "    print(i)"
     ],
     "language": "python",
     "metadata": {},
     "outputs": [
      {
       "output_type": "stream",
       "stream": "stdout",
       "text": [
        "2\n",
        "4\n",
        "6\n",
        "8\n"
       ]
      }
     ],
     "prompt_number": 9
    },
    {
     "cell_type": "code",
     "collapsed": false,
     "input": [
      "total = 0\n",
      "for i in 1, 3, 7:\n",
      "    total = total + i\n",
      "print(total)"
     ],
     "language": "python",
     "metadata": {},
     "outputs": [
      {
       "output_type": "stream",
       "stream": "stdout",
       "text": [
        "11\n"
       ]
      }
     ],
     "prompt_number": 11
    },
    {
     "cell_type": "markdown",
     "metadata": {},
     "source": [
      "Guarda la suma de los tres numeros por los que pasa el for. "
     ]
    },
    {
     "cell_type": "code",
     "collapsed": false,
     "input": [
      "print(sum([1,3,7]))"
     ],
     "language": "python",
     "metadata": {},
     "outputs": [
      {
       "output_type": "stream",
       "stream": "stdout",
       "text": [
        "11\n"
       ]
      }
     ],
     "prompt_number": 13
    },
    {
     "cell_type": "markdown",
     "metadata": {},
     "source": [
      "Se usa la funcion de python para sumar los numeros y mandarlos a imprimir"
     ]
    },
    {
     "cell_type": "code",
     "collapsed": false,
     "input": [
      "def saluda_a(nombre):\n",
      "    print(\"Hola \" + nombre)\n",
      "\n",
      "saluda_a(\"Miranda\")\n",
      "saluda_a(\"Fede\")"
     ],
     "language": "python",
     "metadata": {},
     "outputs": [
      {
       "output_type": "stream",
       "stream": "stdout",
       "text": [
        "Hola Miranda\n",
        "Hola Fede\n"
       ]
      }
     ],
     "prompt_number": 16
    },
    {
     "cell_type": "markdown",
     "metadata": {},
     "source": [
      "se define una funci\u00f3n que recibe como parametro una cadena la cual se imprime junto con la palabra Hola."
     ]
    },
    {
     "cell_type": "code",
     "collapsed": false,
     "input": [
      "angulo = 5\n",
      "if angulo > 0:\n",
      "    print(\"Girando en sentido dextrogiro\")\n",
      "elif angulo < 0:\n",
      "    print(\"Girando en sentido levogiro\")\n",
      "else:\n",
      "    print(\"No girando\")"
     ],
     "language": "python",
     "metadata": {},
     "outputs": [
      {
       "output_type": "stream",
       "stream": "stdout",
       "text": [
        "Girando en sentido dextrogiro\n"
       ]
      }
     ],
     "prompt_number": 18
    },
    {
     "cell_type": "markdown",
     "metadata": {},
     "source": [
      "Evalua la variable \"angulo\" y si esta es mayor a 0, imprime que el sentido de giro es dextrogiro, en otro caso evalua si el angulo es menor a 0, en ese caso imprime que el giro es en levogiro, finalmente si no se cumple ninguna de esas, imprime no girando."
     ]
    },
    {
     "cell_type": "code",
     "collapsed": false,
     "input": [],
     "language": "python",
     "metadata": {},
     "outputs": []
    }
   ],
   "metadata": {}
  }
 ]
}