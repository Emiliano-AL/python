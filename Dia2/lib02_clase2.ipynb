{
 "metadata": {
  "name": "",
  "signature": "sha256:19e061d35e1ea940e1f7cdabab596681fc22e46d9af1364279d6160d0186cd13"
 },
 "nbformat": 3,
 "nbformat_minor": 0,
 "worksheets": [
  {
   "cells": [
    {
     "cell_type": "code",
     "collapsed": false,
     "input": [
      "%run ../talktools.py0"
     ],
     "language": "python",
     "metadata": {},
     "outputs": [
      {
       "output_type": "stream",
       "stream": "stderr",
       "text": [
        "ERROR: File `u'../talktools.py0.py'` not found.\n"
       ]
      }
     ],
     "prompt_number": 2
    },
    {
     "cell_type": "code",
     "collapsed": false,
     "input": [
      "lista_del_super = []\n",
      "lista_del_super.append(\"leche\")\n",
      "lista_del_super.append(\"queso\")\n",
      "lista_del_super.append(\"pan\")"
     ],
     "language": "python",
     "metadata": {},
     "outputs": [],
     "prompt_number": 3
    },
    {
     "cell_type": "code",
     "collapsed": false,
     "input": [
      "lista_del_super = [ \"leche\", \"queso\", \"pan\" ]\n",
      "lista_del_super.remove(\"leche\")\n",
      "for item in lista_del_super:\n",
      "    print(item)"
     ],
     "language": "python",
     "metadata": {},
     "outputs": [
      {
       "output_type": "stream",
       "stream": "stdout",
       "text": [
        "queso\n",
        "pan\n"
       ]
      }
     ],
     "prompt_number": 7
    },
    {
     "cell_type": "code",
     "collapsed": false,
     "input": [
      "if \"leche\" in lista_del_super:\n",
      "    print(\"Mmmh! Que rico.\")\n",
      "\n",
      "if \"huevos\" not in lista_del_super:\n",
      "    print(\"No podemos tener eso!\")\n",
      "    lista_del_super.append(\"huevos\")"
     ],
     "language": "python",
     "metadata": {},
     "outputs": [],
     "prompt_number": 10
    },
    {
     "cell_type": "code",
     "collapsed": false,
     "input": [
      "plantas = [ \"Tulipan\", \"Rosa\", \"Clavel\", \"Edelweiss\"]\n",
      "plantas.append(\"Gsrdenias\")\n",
      "if \"encinos\" not in plantas:\n",
      "    plantas.append(\"encinos\")\n",
      "    \n",
      "for planta in plantas:\n",
      "    print(planta)\n",
      "    "
     ],
     "language": "python",
     "metadata": {},
     "outputs": [
      {
       "output_type": "stream",
       "stream": "stdout",
       "text": [
        "Tulipan\n",
        "Rosa\n",
        "Clavel\n",
        "Edelweiss\n",
        "Gsrdenias\n",
        "encinos\n"
       ]
      }
     ],
     "prompt_number": 12
    }
   ],
   "metadata": {}
  }
 ]
}