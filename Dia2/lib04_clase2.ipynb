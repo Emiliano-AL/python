{
 "metadata": {
  "name": "",
  "signature": "sha256:53f4c5f870ecace84f4cd1d962913fbbaa220fcb7f0b4dfde61157ac4e83c71d"
 },
 "nbformat": 3,
 "nbformat_minor": 0,
 "worksheets": [
  {
   "cells": [
    {
     "cell_type": "code",
     "collapsed": false,
     "input": [
      "f = open(\"meses.txt\")\n",
      "print(f.read())"
     ],
     "language": "python",
     "metadata": {},
     "outputs": [
      {
       "output_type": "stream",
       "stream": "stdout",
       "text": [
        "Enero\n",
        "Febrero\n",
        "Marzo\n",
        "Abril\n",
        "Mayo\n",
        "Junio\n",
        "Julio\n",
        "Agosto\n",
        "Septiembre\n",
        "Octubre\n",
        "Noviembre\n",
        "Diciembre\n"
       ]
      }
     ],
     "prompt_number": 2
    },
    {
     "cell_type": "markdown",
     "metadata": {},
     "source": [
      "Lo que hace, es cargar el archivo de texto meses.txt. e imprime linea por linea el contenido del archivo"
     ]
    },
    {
     "cell_type": "code",
     "collapsed": false,
     "input": [
      "f = open(\"meses.txt\")\n",
      "siguiente = f.read(1)\n",
      "while siguiente != \"\":\n",
      "    print(siguiente)\n",
      "    siguiente = f.read(1)"
     ],
     "language": "python",
     "metadata": {},
     "outputs": [
      {
       "output_type": "stream",
       "stream": "stdout",
       "text": [
        "E\n",
        "n\n",
        "e\n",
        "r\n",
        "o\n",
        "\n",
        "\n",
        "F\n",
        "e\n",
        "b\n",
        "r\n",
        "e\n",
        "r\n",
        "o\n",
        "\n",
        "\n",
        "M\n",
        "a\n",
        "r\n",
        "z\n",
        "o\n",
        "\n",
        "\n",
        "A\n",
        "b\n",
        "r\n",
        "i\n",
        "l\n",
        "\n",
        "\n",
        "M\n",
        "a\n",
        "y\n",
        "o\n",
        "\n",
        "\n",
        "J\n",
        "u\n",
        "n\n",
        "i\n",
        "o\n",
        "\n",
        "\n",
        "J\n",
        "u\n",
        "l\n",
        "i\n",
        "o\n",
        "\n",
        "\n",
        "A\n",
        "g\n",
        "o\n",
        "s\n",
        "t\n",
        "o\n",
        "\n",
        "\n",
        "S\n",
        "e\n",
        "p\n",
        "t\n",
        "i\n",
        "e\n",
        "m\n",
        "b\n",
        "r\n",
        "e\n",
        "\n",
        "\n",
        "O\n",
        "c\n",
        "t\n",
        "u\n",
        "b\n",
        "r\n",
        "e\n",
        "\n",
        "\n",
        "N\n",
        "o\n",
        "v\n",
        "i\n",
        "e\n",
        "m\n",
        "b\n",
        "r\n",
        "e\n",
        "\n",
        "\n",
        "D\n",
        "i\n",
        "c\n",
        "i\n",
        "e\n",
        "m\n",
        "b\n",
        "r\n",
        "e\n"
       ]
      }
     ],
     "prompt_number": 4
    },
    {
     "cell_type": "markdown",
     "metadata": {},
     "source": [
      "Lee el contenido del archivo, solo que lo hace carcter por caracter"
     ]
    },
    {
     "cell_type": "markdown",
     "metadata": {},
     "source": [
      "El ciclo while, hace una iteraci\u00f3n, hasta que el caracter que lea sea igual a \"\", dentro del ciclo lee el siguiente cacterer del contenido.\n",
      "La variable siguiente, lee un solo caracter del contenido del archivo"
     ]
    },
    {
     "cell_type": "markdown",
     "metadata": {},
     "source": [
      "Si la funcion read(2), leera dos cacteres, del contenido del archivo"
     ]
    },
    {
     "cell_type": "code",
     "collapsed": false,
     "input": [
      "f = open(\"meses.txt\")\n",
      "siguiente = f.read(2)\n",
      "while siguiente != \"\":\n",
      "    print(siguiente)\n",
      "    siguiente = f.read(2)"
     ],
     "language": "python",
     "metadata": {},
     "outputs": [
      {
       "output_type": "stream",
       "stream": "stdout",
       "text": [
        "En\n",
        "er\n",
        "o\n",
        "\n",
        "Fe\n",
        "br\n",
        "er\n",
        "o\n",
        "\n",
        "Ma\n",
        "rz\n",
        "o\n",
        "\n",
        "Ab\n",
        "ri\n",
        "l\n",
        "\n",
        "Ma\n",
        "yo\n",
        "\n",
        "J\n",
        "un\n",
        "io\n",
        "\n",
        "J\n",
        "ul\n",
        "io\n",
        "\n",
        "A\n",
        "go\n",
        "st\n",
        "o\n",
        "\n",
        "Se\n",
        "pt\n",
        "ie\n",
        "mb\n",
        "re\n",
        "\n",
        "O\n",
        "ct\n",
        "ub\n",
        "re\n",
        "\n",
        "N\n",
        "ov\n",
        "ie\n",
        "mb\n",
        "re\n",
        "\n",
        "D\n",
        "ic\n",
        "ie\n",
        "mb\n",
        "re\n"
       ]
      }
     ],
     "prompt_number": 5
    },
    {
     "cell_type": "code",
     "collapsed": false,
     "input": [
      "print(\"Quiero dos lineas!\\nEl caracter de linea nueva me permite hacerlo.\")"
     ],
     "language": "python",
     "metadata": {},
     "outputs": [
      {
       "output_type": "stream",
       "stream": "stdout",
       "text": [
        "Quiero dos lineas!\n",
        "El caracter de linea nueva me permite hacerlo.\n"
       ]
      }
     ],
     "prompt_number": 6
    },
    {
     "cell_type": "code",
     "collapsed": false,
     "input": [
      "f = open(\"meses.txt\")\n",
      "next = f.readline()\n",
      "while next != \"\":\n",
      "    print(next)\n",
      "    next = f.readline()"
     ],
     "language": "python",
     "metadata": {},
     "outputs": [
      {
       "output_type": "stream",
       "stream": "stdout",
       "text": [
        "Enero\n",
        "\n",
        "Febrero\n",
        "\n",
        "Marzo\n",
        "\n",
        "Abril\n",
        "\n",
        "Mayo\n",
        "\n",
        "Junio\n",
        "\n",
        "Julio\n",
        "\n",
        "Agosto\n",
        "\n",
        "Septiembre\n",
        "\n",
        "Octubre\n",
        "\n",
        "Noviembre\n",
        "\n",
        "Diciembre\n"
       ]
      }
     ],
     "prompt_number": 7
    },
    {
     "cell_type": "code",
     "collapsed": false,
     "input": [
      "f = open(\"meses.txt\")\n",
      "next = f.readline()\n",
      "while next != \"\":\n",
      "    next = next.strip()\n",
      "    print(next)\n",
      "    next = f.readline()"
     ],
     "language": "python",
     "metadata": {},
     "outputs": [
      {
       "output_type": "stream",
       "stream": "stdout",
       "text": [
        "Enero\n",
        "Febrero\n",
        "Marzo\n",
        "Abril\n",
        "Mayo\n",
        "Junio\n",
        "Julio\n",
        "Agosto\n",
        "Septiembre\n",
        "Octubre\n",
        "Noviembre\n",
        "Diciembre\n"
       ]
      }
     ],
     "prompt_number": 8
    },
    {
     "cell_type": "code",
     "collapsed": false,
     "input": [
      "f = open(\"meses.txt\")\n",
      "next = f.readline()\n",
      "while next != \"\":\n",
      "    next = next.strip(\"\\n\")\n",
      "    print(next)\n",
      "    next = f.readline()"
     ],
     "language": "python",
     "metadata": {},
     "outputs": [
      {
       "output_type": "stream",
       "stream": "stdout",
       "text": [
        "Enero\n",
        "Febrero\n",
        "Marzo\n",
        "Abril\n",
        "Mayo\n",
        "Junio\n",
        "Julio\n",
        "Agosto\n",
        "Septiembre\n",
        "Octubre\n",
        "Noviembre\n",
        "Diciembre\n"
       ]
      }
     ],
     "prompt_number": 9
    },
    {
     "cell_type": "code",
     "collapsed": false,
     "input": [
      "f = open(\"meses.txt\")\n",
      "print(f.readlines())"
     ],
     "language": "python",
     "metadata": {},
     "outputs": [
      {
       "output_type": "stream",
       "stream": "stdout",
       "text": [
        "['Enero\\n', 'Febrero\\n', 'Marzo\\n', 'Abril\\n', 'Mayo\\n', 'Junio\\n', 'Julio\\n', 'Agosto\\n', 'Septiembre\\n', 'Octubre\\n', 'Noviembre\\n', 'Diciembre']\n"
       ]
      }
     ],
     "prompt_number": 10
    },
    {
     "cell_type": "code",
     "collapsed": false,
     "input": [
      "f = open(\"meses.txt\")\n",
      "for mes in f.readlines():\n",
      "   print(\"Mes \" + mes.strip())"
     ],
     "language": "python",
     "metadata": {},
     "outputs": [
      {
       "output_type": "stream",
       "stream": "stdout",
       "text": [
        "Mes Enero\n",
        "Mes Febrero\n",
        "Mes Marzo\n",
        "Mes Abril\n",
        "Mes Mayo\n",
        "Mes Junio\n",
        "Mes Julio\n",
        "Mes Agosto\n",
        "Mes Septiembre\n",
        "Mes Octubre\n",
        "Mes Noviembre\n",
        "Mes Diciembre\n"
       ]
      }
     ],
     "prompt_number": 13
    },
    {
     "cell_type": "code",
     "collapsed": false,
     "input": [
      "f = open(\"meses.txt\")\n",
      "for mes in f:\n",
      "   print(\"Mes \" + mes.strip())"
     ],
     "language": "python",
     "metadata": {},
     "outputs": [
      {
       "output_type": "stream",
       "stream": "stdout",
       "text": [
        "Mes Enero\n",
        "Mes Febrero\n",
        "Mes Marzo\n",
        "Mes Abril\n",
        "Mes Mayo\n",
        "Mes Junio\n",
        "Mes Julio\n",
        "Mes Agosto\n",
        "Mes Septiembre\n",
        "Mes Octubre\n",
        "Mes Noviembre\n",
        "Mes Diciembre\n"
       ]
      }
     ],
     "prompt_number": 14
    },
    {
     "cell_type": "code",
     "collapsed": false,
     "input": [],
     "language": "python",
     "metadata": {},
     "outputs": []
    },
    {
     "cell_type": "code",
     "collapsed": false,
     "input": [
      "f = open(\"archivonuevogenial.txt\", \"w\")"
     ],
     "language": "python",
     "metadata": {},
     "outputs": [],
     "prompt_number": 15
    },
    {
     "cell_type": "code",
     "collapsed": false,
     "input": [
      "f = open(\"archivonuevogenial.txt\", \"w\")\n",
      "f.close()"
     ],
     "language": "python",
     "metadata": {},
     "outputs": [],
     "prompt_number": 17
    },
    {
     "cell_type": "code",
     "collapsed": false,
     "input": [
      "f = open(\"archivoHola.txt\", \"w\")\n",
      "f.write(\"Escribiendo en el archivo desde ipython\\n\")\n",
      "f.write(\"Hola mundo\")\n",
      "f.close()"
     ],
     "language": "python",
     "metadata": {},
     "outputs": [],
     "prompt_number": 20
    },
    {
     "cell_type": "code",
     "collapsed": false,
     "input": [
      "equipos = []\n",
      "f = open(\"equipos.txt\")\n",
      "next = f.readline()\n",
      "while next != \"\":\n",
      "    next = next.strip(\"\\n\")\n",
      "    equipos.append(next + \" Pa' su mecha, que buen equipo\")\n",
      "    next = f.readline()\n",
      "f.close()  \n",
      "fi = open(\"masequipos.txt\", \"w\")\n",
      "for equipo in equipos:\n",
      "    fi.write(equipo + \"\\n\")\n",
      "fi.close()"
     ],
     "language": "python",
     "metadata": {},
     "outputs": [],
     "prompt_number": 21
    },
    {
     "cell_type": "code",
     "collapsed": false,
     "input": [],
     "language": "python",
     "metadata": {},
     "outputs": []
    }
   ],
   "metadata": {}
  }
 ]
}