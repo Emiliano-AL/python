{
 "metadata": {
  "name": "",
  "signature": "sha256:419da7c0cf9731be040af0f9062a16eb280187fa2ff3145770ced012db5938c6"
 },
 "nbformat": 3,
 "nbformat_minor": 0,
 "worksheets": [
  {
   "cells": [
    {
     "cell_type": "code",
     "collapsed": false,
     "input": [
      "comidas = {}\n",
      "comidas[\"platano\"] = \"Un bocado amarillo exquisito!\"\n",
      "comidas[\"lodo\"]   = \"No muy rico. NO COMER!\"\n",
      "comidas[\"platano\"]"
     ],
     "language": "python",
     "metadata": {},
     "outputs": [
      {
       "metadata": {},
       "output_type": "pyout",
       "prompt_number": 2,
       "text": [
        "'Un bocado amarillo exquisito!'"
       ]
      }
     ],
     "prompt_number": 2
    },
    {
     "cell_type": "code",
     "collapsed": false,
     "input": [
      "if \"queso\" in comidas:\n",
      "    print(\"Queso es una comida conocida!\")\n",
      "    print(comidas[\"queso\"])"
     ],
     "language": "python",
     "metadata": {},
     "outputs": [],
     "prompt_number": 4
    },
    {
     "cell_type": "code",
     "collapsed": false,
     "input": [
      "if \"queso\" not in comidas:\n",
      "    comidas[\"queso\"] = \"mmmmm Queso!!!\"\n",
      "    print(\"No hay queso?, lo agregamos!\")\n",
      "    print(comidas[\"queso\"])"
     ],
     "language": "python",
     "metadata": {},
     "outputs": [],
     "prompt_number": 7
    },
    {
     "cell_type": "code",
     "collapsed": false,
     "input": [
      "del comidas[\"lodo\"]"
     ],
     "language": "python",
     "metadata": {},
     "outputs": [
      {
       "ename": "KeyError",
       "evalue": "'lodo'",
       "output_type": "pyerr",
       "traceback": [
        "\u001b[1;31m---------------------------------------------------------------------------\u001b[0m\n\u001b[1;31mKeyError\u001b[0m                                  Traceback (most recent call last)",
        "\u001b[1;32m<ipython-input-9-d3602b9bc87c>\u001b[0m in \u001b[0;36m<module>\u001b[1;34m()\u001b[0m\n\u001b[1;32m----> 1\u001b[1;33m \u001b[1;32mdel\u001b[0m \u001b[0mcomidas\u001b[0m\u001b[1;33m[\u001b[0m\u001b[1;34m\"lodo\"\u001b[0m\u001b[1;33m]\u001b[0m\u001b[1;33m\u001b[0m\u001b[0m\n\u001b[0m",
        "\u001b[1;31mKeyError\u001b[0m: 'lodo'"
       ]
      }
     ],
     "prompt_number": 9
    },
    {
     "cell_type": "markdown",
     "metadata": {},
     "source": [
      "ingredientes = {}\n",
      "ingredientes[\"sandwich jlt\"] = [\"pan\", \"jitomate\", \"lechuga\", \"tocino\"]"
     ]
    },
    {
     "cell_type": "code",
     "collapsed": false,
     "input": [
      "europa = []\n",
      "alemania = {\"nombre\": \"Alemania\", \"poblacion\": 81000000}\n",
      "europa.append(alemania)\n",
      "luxemburgo = {\"nombre\": \"Luxemburgo\", \"poblacion\": 512000}\n",
      "europa.append(luxemburgo)"
     ],
     "language": "python",
     "metadata": {},
     "outputs": [],
     "prompt_number": 11
    },
    {
     "cell_type": "code",
     "collapsed": false,
     "input": [
      "plantas = []\n",
      "tulipan = {\"nombre\" : \"Tulipan\", \"es_arbusto\" : False, \"es_arbol\" : False, \"imagen\" : \"/tulipan.jpg\"}\n",
      "plantas.append(tulipan)\n",
      "rosa = {\"nombre\" : \"Rosa\", \"es_arbusto\" : False, \"es_arbol\" : False, \"imagen\" : \"/rosa.jpg\"}\n",
      "plantas.append(rosa)\n",
      "clavel = {\"nombre\" : \"Clavel\", \"es_arbusto\" : False, \"es_arbol\" : False, \"imagen\" : \"/clavel.jpg\"}\n",
      "plantas.append(clavel)\n",
      "edelweiss = {\"nombre\" : \"Edelweiss\", \"es_arbusto\" : False, \"es_arbol\" : False, \"imagen\" : \"/edelvais.jpg\"}\n",
      "plantas.append(edelweiss)"
     ],
     "language": "python",
     "metadata": {},
     "outputs": [],
     "prompt_number": 13
    },
    {
     "cell_type": "code",
     "collapsed": false,
     "input": [],
     "language": "python",
     "metadata": {},
     "outputs": []
    },
    {
     "cell_type": "code",
     "collapsed": false,
     "input": [],
     "language": "python",
     "metadata": {},
     "outputs": []
    }
   ],
   "metadata": {}
  }
 ]
}